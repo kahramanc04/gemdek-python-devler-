{
 "cells": [
  {
   "cell_type": "markdown",
   "id": "62e06e08",
   "metadata": {},
   "source": [
    "<center> <h1 style=\"color:magenta\"> Numpy Compherensive Quiz</h1></center>"
   ]
  },
  {
   "cell_type": "code",
   "execution_count": 85,
   "id": "e29a4d07",
   "metadata": {},
   "outputs": [],
   "source": [
    "# Kütüphaneleri buraya import edin\n",
    "import numpy as np \n",
    "from numpy import array \n",
    "from numpy import ndarray \n",
    "import matplotlib.pyplot as plt\n",
    "\n",
    "\n",
    "\n",
    "\n"
   ]
  },
  {
   "cell_type": "markdown",
   "id": "6f95c088",
   "metadata": {},
   "source": [
    "<center> <h2 style=\"color:blue\"> Question 1 </h2></center>"
   ]
  },
  {
   "cell_type": "markdown",
   "id": "d4f70164",
   "metadata": {},
   "source": [
    "__Question:__ Aşağıda tanımlanan matrisin istenilen özelliklerini bulun."
   ]
  },
  {
   "cell_type": "markdown",
   "id": "6f2795fe",
   "metadata": {},
   "source": [
    "$$\n",
    "\\begin{bmatrix}\n",
    "7 & -88 & 11 \\\\\n",
    "-3 & 7 & 12 \\\\\n",
    "-4 & 5 & -99 \\\\\n",
    "3 & 8 & -2 \\\\\n",
    "\\end{bmatrix}$$"
   ]
  },
  {
   "cell_type": "markdown",
   "id": "5add269a",
   "metadata": {},
   "source": [
    "- Bu matrisi __numpy__ ile __tanımlayın__.\n",
    "- Bu Matris kaç boyutludur. __Satır__ ve __sütun__ sayısını bulun.\n",
    "- Bu matrisin __satır bazında__ en __küçük__ elemanlarını bulun.\n",
    "- -88 değerini 101 ile __güncelleyin__.\n",
    "- -99 değerini 0 ile __güncelleyin__.\n",
    "- Bu matirisin __2x12__ olarak yeniden boyutlandırın."
   ]
  },
  {
   "cell_type": "markdown",
   "id": "d924d9c8",
   "metadata": {},
   "source": [
    "__Answer:__"
   ]
  },
  {
   "cell_type": "code",
   "execution_count": 15,
   "id": "04c6dee8",
   "metadata": {},
   "outputs": [
    {
     "data": {
      "text/plain": [
       "array([[  7, -88,  11],\n",
       "       [ -3,   7,  12],\n",
       "       [ -4,   5, -99],\n",
       "       [  3,   8,  -2]])"
      ]
     },
     "execution_count": 15,
     "metadata": {},
     "output_type": "execute_result"
    }
   ],
   "source": [
    "ödev_1 : ndarray = array([\n",
    "    [7,-88,11],\n",
    "    [-3,7,12],\n",
    "    [-4,5,-99],\n",
    "    [3,8,-2]\n",
    "])\n",
    "ödev_1"
   ]
  },
  {
   "cell_type": "code",
   "execution_count": 27,
   "id": "81d614cb",
   "metadata": {},
   "outputs": [
    {
     "data": {
      "text/plain": [
       "(4, 3)"
      ]
     },
     "execution_count": 27,
     "metadata": {},
     "output_type": "execute_result"
    }
   ],
   "source": [
    "ödev_1.shape\n",
    "\n"
   ]
  },
  {
   "cell_type": "code",
   "execution_count": 31,
   "id": "6dc42f43",
   "metadata": {},
   "outputs": [
    {
     "data": {
      "text/plain": [
       "array([[  7, 101,  11],\n",
       "       [ -3,   7,  12],\n",
       "       [ -4,   5,   0],\n",
       "       [  3,   8,  -2]])"
      ]
     },
     "execution_count": 31,
     "metadata": {},
     "output_type": "execute_result"
    }
   ],
   "source": [
    "ödev_1[0,1] = 101\n",
    "ödev_1[2,2]=0\n",
    "ödev_1"
   ]
  },
  {
   "cell_type": "code",
   "execution_count": 36,
   "id": "cd15d4af",
   "metadata": {},
   "outputs": [
    {
     "data": {
      "text/plain": [
       "array([[  7, 101,  11,  -3,   7,  12,  -4,   5,   0,   3,   8,  -2]])"
      ]
     },
     "execution_count": 36,
     "metadata": {},
     "output_type": "execute_result"
    }
   ],
   "source": [
    "ödev_1.reshape(1,12)\n",
    "# 2*12 şeklinde olmuyor elimizde 24 eleman olmadığı için 1*12 yaptım"
   ]
  },
  {
   "cell_type": "code",
   "execution_count": null,
   "id": "d061cad4",
   "metadata": {},
   "outputs": [],
   "source": []
  },
  {
   "cell_type": "markdown",
   "id": "239d1563",
   "metadata": {},
   "source": [
    "<center> <h2 style=\"color:blue\"> Question 2</h2></center>"
   ]
  },
  {
   "cell_type": "markdown",
   "id": "7acb87a1",
   "metadata": {},
   "source": [
    "__Question:__ İçinde bir sınıftaki öğrencilerin quiz notlarını bulunduran \"__marks.npy__\" dosyasını __import__ edip aşağıda istenen değerleri bulun."
   ]
  },
  {
   "cell_type": "markdown",
   "id": "80375a6f",
   "metadata": {},
   "source": [
    "- veri setinin içindeki __veri sayısı__\n",
    "- en __yüksek__ not\n",
    "- en __düşük__ not\n",
    "- notların __medyanı__\n",
    "- notların __açıklığı__\n",
    "- not __ortalaması__\n",
    "- notların __standart sapması__\n",
    "- notların __varyansı__"
   ]
  },
  {
   "cell_type": "markdown",
   "id": "91c890c0",
   "metadata": {},
   "source": [
    "__Not:__ Veri setini import etmek için __numpy.load()__ fonksiyonunu kullanın. (Githubdan veri setini indirip jupytere yüklemeyi unutmayın.)"
   ]
  },
  {
   "cell_type": "markdown",
   "id": "c42d4077",
   "metadata": {},
   "source": [
    "__Answer:__"
   ]
  },
  {
   "cell_type": "code",
   "execution_count": 100,
   "id": "420ac18e",
   "metadata": {},
   "outputs": [
    {
     "ename": "FileNotFoundError",
     "evalue": "[Errno 2] No such file or directory: 'marks.npy'",
     "output_type": "error",
     "traceback": [
      "\u001b[1;31m---------------------------------------------------------------------------\u001b[0m",
      "\u001b[1;31mFileNotFoundError\u001b[0m                         Traceback (most recent call last)",
      "Cell \u001b[1;32mIn[100], line 1\u001b[0m\n\u001b[1;32m----> 1\u001b[0m quiz_notları \u001b[38;5;241m=\u001b[39m np\u001b[38;5;241m.\u001b[39mload(\u001b[38;5;124m\"\u001b[39m\u001b[38;5;124mmarks.npy\u001b[39m\u001b[38;5;124m\"\u001b[39m)\n",
      "File \u001b[1;32m~\\anaconda3\\Lib\\site-packages\\numpy\\lib\\npyio.py:405\u001b[0m, in \u001b[0;36mload\u001b[1;34m(file, mmap_mode, allow_pickle, fix_imports, encoding, max_header_size)\u001b[0m\n\u001b[0;32m    403\u001b[0m     own_fid \u001b[38;5;241m=\u001b[39m \u001b[38;5;28;01mFalse\u001b[39;00m\n\u001b[0;32m    404\u001b[0m \u001b[38;5;28;01melse\u001b[39;00m:\n\u001b[1;32m--> 405\u001b[0m     fid \u001b[38;5;241m=\u001b[39m stack\u001b[38;5;241m.\u001b[39menter_context(\u001b[38;5;28mopen\u001b[39m(os_fspath(file), \u001b[38;5;124m\"\u001b[39m\u001b[38;5;124mrb\u001b[39m\u001b[38;5;124m\"\u001b[39m))\n\u001b[0;32m    406\u001b[0m     own_fid \u001b[38;5;241m=\u001b[39m \u001b[38;5;28;01mTrue\u001b[39;00m\n\u001b[0;32m    408\u001b[0m \u001b[38;5;66;03m# Code to distinguish from NumPy binary files and pickles.\u001b[39;00m\n",
      "\u001b[1;31mFileNotFoundError\u001b[0m: [Errno 2] No such file or directory: 'marks.npy'"
     ]
    }
   ],
   "source": [
    "^#indiremedim bir türlü bunu "
   ]
  },
  {
   "cell_type": "code",
   "execution_count": null,
   "id": "f88eda14",
   "metadata": {},
   "outputs": [],
   "source": []
  },
  {
   "cell_type": "markdown",
   "id": "3b29e5ef",
   "metadata": {},
   "source": [
    "<center> <h2 style=\"color:blue\"> Question 3  </h2></center>"
   ]
  },
  {
   "cell_type": "markdown",
   "id": "6e79052e",
   "metadata": {},
   "source": [
    "__Question:__ Aşağıda tanım kümesi verilen fonksiyonu görselleştirin."
   ]
  },
  {
   "cell_type": "markdown",
   "id": "61f2ddb1",
   "metadata": {},
   "source": [
    "$$ x ~~ \\epsilon ~~ (0,15)$$\n",
    "\n",
    "$$ f(x) = \\frac {sin(x) \\cdot \\sqrt {x}} {x^2 + 1}  $$"
   ]
  },
  {
   "cell_type": "markdown",
   "id": "069d408f",
   "metadata": {},
   "source": [
    "__Answer:__"
   ]
  },
  {
   "cell_type": "code",
   "execution_count": 32,
   "id": "b45f8265",
   "metadata": {},
   "outputs": [],
   "source": [
    "from numpy import pi \n",
    "from numpy import sin  \n"
   ]
  },
  {
   "cell_type": "code",
   "execution_count": 88,
   "id": "c2d98d8a",
   "metadata": {},
   "outputs": [
    {
     "data": {
      "text/plain": [
       "[<matplotlib.lines.Line2D at 0x207aa03d8d0>]"
      ]
     },
     "execution_count": 88,
     "metadata": {},
     "output_type": "execute_result"
    },
    {
     "data": {
      "image/png": "[encoded data removed]",
      "text/plain": [
       "<Figure size 640x480 with 1 Axes>"
      ]
     },
     "metadata": {},
     "output_type": "display_data"
    }
   ],
   "source": [
    "x= np.arange(0,15,0.01)\n",
    "y=(np.sin(x)* x**1/2)/(x**2 +1)\n",
    "plt.plot(x,y)\n"
   ]
  },
  {
   "cell_type": "markdown",
   "id": "7fb69221",
   "metadata": {},
   "source": [
    "<center> <h2 style=\"color:blue\"> Question 4 </h2></center>"
   ]
  },
  {
   "cell_type": "markdown",
   "id": "d9cfdde9",
   "metadata": {},
   "source": [
    "__Question:__ Aşağıdaki matrisi numpy ile tanımlayıp istenilen değerleri hesaplayın."
   ]
  },
  {
   "cell_type": "markdown",
   "id": "ebf0a54b",
   "metadata": {},
   "source": [
    "$$\n",
    "\\begin{bmatrix}\n",
    "7 & -8 & 11 \\\\\n",
    "-4 & 5 & 1 \\\\\n",
    "3 & 8 & -2 \\\\\n",
    "\\end{bmatrix}$$"
   ]
  },
  {
   "cell_type": "markdown",
   "id": "ca6f8cb9",
   "metadata": {},
   "source": [
    "- Matrisin __Determinantı__\n",
    "- Matrisin __Özdeğerleri__ (eigen values)\n",
    "- Matrisin __Tersi__ (inverse)\n",
    "- Matrisin __Condition Number'ı__\n",
    "- Matrisin __Norm'u__"
   ]
  },
  {
   "cell_type": "markdown",
   "id": "939a4ea7",
   "metadata": {},
   "source": [
    "__Answer:__"
   ]
  },
  {
   "cell_type": "code",
   "execution_count": 53,
   "id": "3448aa29",
   "metadata": {},
   "outputs": [
    {
     "data": {
      "text/plain": [
       "array([[ 7, -8, 11],\n",
       "       [-4,  5,  1],\n",
       "       [ 3,  8, -2]])"
      ]
     },
     "execution_count": 53,
     "metadata": {},
     "output_type": "execute_result"
    }
   ],
   "source": [
    "ödev_2:ndarray= array([[7,-8,11],\n",
    "                      [-4,5,1],\n",
    "                     [3,8,-2]\n",
    "                      ])\n",
    "ödev_2"
   ]
  },
  {
   "cell_type": "code",
   "execution_count": 106,
   "id": "189909c7",
   "metadata": {},
   "outputs": [
    {
     "name": "stdout",
     "output_type": "stream",
     "text": [
      "-602.9999999999997\n",
      "[[ 0.02985075 -0.11940299  0.10447761]\n",
      " [ 0.00829187  0.07794362  0.08457711]\n",
      " [ 0.07794362  0.13266998 -0.00497512]]\n",
      "[-7.81317157 10.37284109  7.44033048]\n",
      "18.788294228055936\n",
      "3.3546326482056936\n"
     ]
    }
   ],
   "source": [
    "    print(np.linalg.det(ödev_2))\n",
    "    print(np.linalg.inv(ödev_2))\n",
    "    print(np.linalg.eigvals(ödev_2))\n",
    "    print(np.linalg.norm(ödev_2))\n",
    "    print(np.linalg.cond(ödev_2))"
   ]
  },
  {
   "cell_type": "markdown",
   "id": "caeb04cc",
   "metadata": {},
   "source": [
    "<center> <h2 style=\"color:blue\"> Question 5</h2></center>"
   ]
  },
  {
   "cell_type": "markdown",
   "id": "6cd27362",
   "metadata": {},
   "source": [
    "__Question:__  Aşağıda verilen __A__ matrisi ile __B__ matrisini __matris çarpımı__ ile çarpın."
   ]
  },
  {
   "cell_type": "markdown",
   "id": "4418ffd1",
   "metadata": {},
   "source": [
    "$$ A = \\begin{bmatrix}\n",
    "1 & 2 \\\\\n",
    "4 & 5  \n",
    "\\end{bmatrix}  $$\n",
    "<br> <br>\n",
    "$$ B = [4 ~~ 5] $$"
   ]
  },
  {
   "cell_type": "markdown",
   "id": "03eb1c8c",
   "metadata": {},
   "source": [
    "__Answer:__"
   ]
  },
  {
   "cell_type": "code",
   "execution_count": 97,
   "id": "e8459a02",
   "metadata": {},
   "outputs": [],
   "source": [
    "matrix_1=np.array([[1,2],\n",
    "                    [4,5]])\n",
    "\n",
    "matrix_2=np.array([4,5])\n",
    "    "
   ]
  },
  {
   "cell_type": "code",
   "execution_count": 98,
   "id": "ccf74f09",
   "metadata": {},
   "outputs": [
    {
     "data": {
      "text/plain": [
       "array([14, 41])"
      ]
     },
     "execution_count": 98,
     "metadata": {},
     "output_type": "execute_result"
    }
   ],
   "source": [
    "np.matmul(matrix_1, matrix_2)\n"
   ]
  },
  {
   "cell_type": "markdown",
   "id": "f542f599",
   "metadata": {},
   "source": [
    "<center> <h2 style=\"color:blue\"> Question 6 </h2></center>"
   ]
  },
  {
   "cell_type": "markdown",
   "id": "d47d2137",
   "metadata": {},
   "source": [
    "__Question:__  Aşağıda, $  Ax=B $ formatında verilen matrisin çözüm kümesini bulunuz."
   ]
  },
  {
   "cell_type": "markdown",
   "id": "50f106f7",
   "metadata": {},
   "source": [
    "\n",
    "$$ \n",
    "\\begin{bmatrix}\n",
    "1 & 2 & 3 \\\\\n",
    "4 & 5 & 6 \\\\\n",
    "7 & 8 & 9 \\\\\n",
    "\\end{bmatrix} \\cdot x =  \n",
    "\\begin{bmatrix}\n",
    "2 \\\\\n",
    "0 \\\\\n",
    "-1 \\\\\n",
    "\\end{bmatrix} \n",
    "$$"
   ]
  },
  {
   "cell_type": "markdown",
   "id": "5ff1b23f",
   "metadata": {},
   "source": [
    "__Answer:__"
   ]
  },
  {
   "cell_type": "code",
   "execution_count": 102,
   "id": "50702aca",
   "metadata": {},
   "outputs": [],
   "source": [
    "matrix_1 = np.array([[1,2,3],\n",
    "                    [4,5,6],\n",
    "                    [7,8,9]])\n",
    "matrix_2 = np.array([[2],\n",
    "                    [0],\n",
    "                    [-1]])"
   ]
  },
  {
   "cell_type": "code",
   "execution_count": 103,
   "id": "5e9d1b7b",
   "metadata": {},
   "outputs": [
    {
     "data": {
      "text/plain": [
       "array([[ 3.15251974e+15],\n",
       "       [-6.30503948e+15],\n",
       "       [ 3.15251974e+15]])"
      ]
     },
     "execution_count": 103,
     "metadata": {},
     "output_type": "execute_result"
    }
   ],
   "source": [
    "np.linalg.solve(matrix_1, matrix_2)"
   ]
  },
  {
   "cell_type": "markdown",
   "id": "d90055a3",
   "metadata": {},
   "source": [
    "<center> <b> İbrahim TUNÇ</b></center>"
   ]
  }
 ],
 "metadata": {
  "kernelspec": {
   "display_name": "Python 3 (ipykernel)",
   "language": "python",
   "name": "python3"
  },
  "language_info": {
   "codemirror_mode": {
    "name": "ipython",
    "version": 3
   },
   "file_extension": ".py",
   "mimetype": "text/x-python",
   "name": "python",
   "nbconvert_exporter": "python",
   "pygments_lexer": "ipython3",
   "version": "3.11.5"
  }
 },
 "nbformat": 4,
 "nbformat_minor": 5
}
